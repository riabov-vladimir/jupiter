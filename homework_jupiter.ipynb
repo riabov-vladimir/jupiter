{
 "cells": [
  {
   "cell_type": "code",
   "execution_count": 1,
   "metadata": {},
   "outputs": [],
   "source": [
    "import pandas as pd"
   ]
  },
  {
   "cell_type": "code",
   "execution_count": 6,
   "metadata": {},
   "outputs": [],
   "source": [
    "def count_top3(years: list) -> list:\n",
    "    result = pd.DataFrame()\n",
    "    for year in years:\n",
    "        file_path = 'data\\yob{}.txt'.format(year)    \n",
    "        \n",
    "        try:\n",
    "            file = pd.read_csv(file_path, names=['Имя', 'Пол', 'Количество'])\n",
    "        except FileNotFoundError:\n",
    "            print(f'Файл не найден.')\n",
    "\n",
    "        result = pd.concat([result, file])\n",
    "    result = result.groupby(['Имя']).sum()[['Количество']]\n",
    "    result = result.sort_values(['Количество'], ascending=False).head(3)\n",
    "    result.reset_index(inplace=True)\n",
    "    result.squeeze()\n",
    "    return list(result['Имя'])"
   ]
  },
  {
   "cell_type": "code",
   "execution_count": 7,
   "metadata": {},
   "outputs": [
    {
     "data": {
      "text/plain": [
       "['Michael', 'Matthew', 'Christopher']"
      ]
     },
     "execution_count": 7,
     "metadata": {},
     "output_type": "execute_result"
    }
   ],
   "source": [
    "top3 = count_top3(['1999','2000', '1988'])\n",
    "\n",
    "top3"
   ]
  },
  {
   "cell_type": "code",
   "execution_count": null,
   "metadata": {},
   "outputs": [],
   "source": []
  }
 ],
 "metadata": {
  "kernelspec": {
   "display_name": "Python 3",
   "language": "python",
   "name": "python3"
  },
  "language_info": {
   "codemirror_mode": {
    "name": "ipython",
    "version": 3
   },
   "file_extension": ".py",
   "mimetype": "text/x-python",
   "name": "python",
   "nbconvert_exporter": "python",
   "pygments_lexer": "ipython3",
   "version": "3.8.3"
  }
 },
 "nbformat": 4,
 "nbformat_minor": 4
}
