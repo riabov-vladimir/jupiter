{
 "cells": [
  {
   "cell_type": "code",
   "execution_count": 1,
   "metadata": {},
   "outputs": [],
   "source": [
    "import pandas as pd"
   ]
  },
  {
   "cell_type": "markdown",
   "metadata": {},
   "source": [
    "## Задача №1\n",
    "С использованием Pandas написать функцию, которая загружает указанные года и выводит ТОП-3 популярных имен. Например:\n",
    "\n",
    "```python    \n",
    "count_top3([1880]) == ['John', 'William', 'Mary']\n",
    "count_top3([1900, 1950, 2000]) == ['James', 'John', 'Robert']"
   ]
  },
  {
   "cell_type": "code",
   "execution_count": 6,
   "metadata": {},
   "outputs": [],
   "source": [
    "def count_top3(years: list) -> list:\n",
    "    result = pd.DataFrame()\n",
    "    for year in years:\n",
    "        file_path = 'data\\yob{}.txt'.format(year)    \n",
    "        \n",
    "        try:\n",
    "            file = pd.read_csv(file_path, names=['Имя', 'Пол', 'Количество'])\n",
    "        except FileNotFoundError:\n",
    "            print(f'Файл не найден.')\n",
    "\n",
    "        result = pd.concat([result, file])\n",
    "    result = result.groupby(['Имя']).sum()[['Количество']]\n",
    "    result = result.sort_values(['Количество'], ascending=False).head(3)\n",
    "    result.reset_index(inplace=True)\n",
    "    result.squeeze()\n",
    "    return list(result['Имя'])"
   ]
  },
  {
   "cell_type": "code",
   "execution_count": 8,
   "metadata": {},
   "outputs": [
    {
     "data": {
      "text/plain": [
       "['James', 'John', 'Robert']"
      ]
     },
     "execution_count": 8,
     "metadata": {},
     "output_type": "execute_result"
    }
   ],
   "source": [
    "top3 = count_top3([1900, 1950, 2000])\n",
    "\n",
    "top3"
   ]
  },
  {
   "cell_type": "markdown",
   "metadata": {},
   "source": [
    "## Задача №2\n",
    "С использованием Pandas написать функцию, которая возвращает динамику изменения количества имен за указанные года в разрезе полов. Например:\n",
    "\n",
    "```python      \n",
    "count_dynamics([1900, 1950, 2000]) == {\n",
    "  'F': [299810, 1713259, 1814922],\n",
    "  'M': [150486, 1790871, 1962744]\n",
    "}\n",
    "```"
   ]
  },
  {
   "cell_type": "code",
   "execution_count": 11,
   "metadata": {},
   "outputs": [],
   "source": [
    "def count_dynamics(years: list):\n",
    "    result = pd.DataFrame()\n",
    "    for year in years:\n",
    "        file_path = 'data\\yob{}.txt'.format(year)    \n",
    "        \n",
    "        try:\n",
    "            file = pd.read_csv(file_path, names=['Имя', 'Пол', 'Количество'])\n",
    "        except FileNotFoundError:\n",
    "            print(f'Файл не найден.')\n",
    "        file['Год'] = year\n",
    "        result = pd.concat([result, file])\n",
    "    result.set_index(['Пол', 'Год'], inplace=True)\n",
    "    return result.groupby(['Пол', 'Год']).sum()"
   ]
  },
  {
   "cell_type": "code",
   "execution_count": 12,
   "metadata": {},
   "outputs": [
    {
     "data": {
      "text/html": [
       "<div>\n",
       "<style scoped>\n",
       "    .dataframe tbody tr th:only-of-type {\n",
       "        vertical-align: middle;\n",
       "    }\n",
       "\n",
       "    .dataframe tbody tr th {\n",
       "        vertical-align: top;\n",
       "    }\n",
       "\n",
       "    .dataframe thead th {\n",
       "        text-align: right;\n",
       "    }\n",
       "</style>\n",
       "<table border=\"1\" class=\"dataframe\">\n",
       "  <thead>\n",
       "    <tr style=\"text-align: right;\">\n",
       "      <th></th>\n",
       "      <th></th>\n",
       "      <th>Количество</th>\n",
       "    </tr>\n",
       "    <tr>\n",
       "      <th>Пол</th>\n",
       "      <th>Год</th>\n",
       "      <th></th>\n",
       "    </tr>\n",
       "  </thead>\n",
       "  <tbody>\n",
       "    <tr>\n",
       "      <th rowspan=\"3\" valign=\"top\">F</th>\n",
       "      <th>1900</th>\n",
       "      <td>299798</td>\n",
       "    </tr>\n",
       "    <tr>\n",
       "      <th>1950</th>\n",
       "      <td>1713065</td>\n",
       "    </tr>\n",
       "    <tr>\n",
       "      <th>2000</th>\n",
       "      <td>1815295</td>\n",
       "    </tr>\n",
       "    <tr>\n",
       "      <th rowspan=\"3\" valign=\"top\">M</th>\n",
       "      <th>1900</th>\n",
       "      <td>150480</td>\n",
       "    </tr>\n",
       "    <tr>\n",
       "      <th>1950</th>\n",
       "      <td>1790437</td>\n",
       "    </tr>\n",
       "    <tr>\n",
       "      <th>2000</th>\n",
       "      <td>1963202</td>\n",
       "    </tr>\n",
       "  </tbody>\n",
       "</table>\n",
       "</div>"
      ],
      "text/plain": [
       "          Количество\n",
       "Пол Год             \n",
       "F   1900      299798\n",
       "    1950     1713065\n",
       "    2000     1815295\n",
       "M   1900      150480\n",
       "    1950     1790437\n",
       "    2000     1963202"
      ]
     },
     "execution_count": 12,
     "metadata": {},
     "output_type": "execute_result"
    }
   ],
   "source": [
    "count_dynamics([1900, 1950, 2000])\n"
   ]
  },
  {
   "cell_type": "code",
   "execution_count": null,
   "metadata": {},
   "outputs": [],
   "source": []
  }
 ],
 "metadata": {
  "kernelspec": {
   "display_name": "Python 3",
   "language": "python",
   "name": "python3"
  },
  "language_info": {
   "codemirror_mode": {
    "name": "ipython",
    "version": 3
   },
   "file_extension": ".py",
   "mimetype": "text/x-python",
   "name": "python",
   "nbconvert_exporter": "python",
   "pygments_lexer": "ipython3",
   "version": "3.8.3"
  }
 },
 "nbformat": 4,
 "nbformat_minor": 4
}
